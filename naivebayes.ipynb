{
  "nbformat": 4,
  "nbformat_minor": 0,
  "metadata": {
    "colab": {
      "provenance": [],
      "authorship_tag": "ABX9TyN8KNLFdwfp/wIC3OUXfNwp",
      "include_colab_link": true
    },
    "kernelspec": {
      "name": "python3",
      "display_name": "Python 3"
    },
    "language_info": {
      "name": "python"
    }
  },
  "cells": [
    {
      "cell_type": "markdown",
      "metadata": {
        "id": "view-in-github",
        "colab_type": "text"
      },
      "source": [
        "<a href=\"https://colab.research.google.com/github/susik17/myprojects/blob/main/naivebayes.ipynb\" target=\"_parent\"><img src=\"https://colab.research.google.com/assets/colab-badge.svg\" alt=\"Open In Colab\"/></a>"
      ]
    },
    {
      "cell_type": "code",
      "source": [
        "import pandas as pd\n",
        "from sklearn.feature_extraction.text import CountVectorizer\n",
        "from sklearn.naive_bayes import MultinomialNB\n",
        "from sklearn.model_selection import train_test_split\n",
        "from sklearn.metrics import accuracy_score, classification_report\n",
        "\n",
        "# Load data\n",
        "data = pd.read_excel(\"/content/datasets/emails.xlsx\")  # Load your dataset here\n",
        "\n",
        "# Data preprocessing\n",
        "X = data['text']  # Features\n",
        "y = data['spam']  # Target variable\n",
        "\n",
        "# Splitting the data into training and testing sets\n",
        "X_train, X_test, y_train, y_test = train_test_split(X, y, test_size=0.2, random_state=42)\n",
        "\n",
        "# Vectorize the training data\n",
        "vectorizer = CountVectorizer()\n",
        "X_train_vectorized = vectorizer.fit_transform(X_train)\n",
        "\n",
        "# Train the Naive Bayes classifier\n",
        "nb_classifier = MultinomialNB()\n",
        "nb_classifier.fit(X_train_vectorized, y_train)\n",
        "\n",
        "# Vectorize the testing data\n",
        "X_test_vectorized = vectorizer.transform(X_test)\n",
        "\n",
        "# Make predictions\n",
        "predictions = nb_classifier.predict(X_test_vectorized)\n",
        "\n",
        "# Calculate accuracy\n",
        "accuracy = accuracy_score(y_test, predictions)\n",
        "print(\"Accuracy:\", accuracy)\n",
        "\n",
        "# Display classification report\n",
        "print(\"Classification Report:\")\n",
        "print(classification_report(y_test, predictions))\n"
      ],
      "metadata": {
        "colab": {
          "base_uri": "https://localhost:8080/"
        },
        "id": "eX5g6MgpVJeS",
        "outputId": "be97754b-dc9d-4dc6-a47d-cdb80bee8bf7"
      },
      "execution_count": null,
      "outputs": [
        {
          "output_type": "stream",
          "name": "stdout",
          "text": [
            "Accuracy: 0.9886561954624782\n",
            "Classification Report:\n",
            "              precision    recall  f1-score   support\n",
            "\n",
            "           0       0.99      0.99      0.99       856\n",
            "           1       0.98      0.97      0.98       290\n",
            "\n",
            "    accuracy                           0.99      1146\n",
            "   macro avg       0.99      0.98      0.98      1146\n",
            "weighted avg       0.99      0.99      0.99      1146\n",
            "\n"
          ]
        }
      ]
    },
    {
      "cell_type": "code",
      "source": [
        "from sklearn.feature_extraction.text import CountVectorizer\n",
        "from sklearn.naive_bayes import MultinomialNB\n",
        "# Training data\n",
        "train_sentences = [\n",
        "\"I love this movie\",\n",
        "\"This movie is great\",\n",
        "\"Wonderful movie\",\n",
        "\"I hate this movie\",\n",
        "\"This movie is terrible\"\n",
        "]\n",
        "train_labels = [1, 1,1, 0, 0]\n",
        "# Vectorize the training data\n",
        "vectorizer = CountVectorizer()\n",
        "X_train = vectorizer.fit_transform(train_sentences)\n",
        "# Train the classifier\n",
        "nb_classifier = MultinomialNB()\n",
        "nb_classifier.fit(X_train, train_labels)\n",
        "# Get user input\n",
        "user_input = input(\"Enter a sentence: \")\n",
        "# Vectorize the user input\n",
        "X_user = vectorizer.transform([user_input])\n",
        "# Predict sentiment\n",
        "prediction = nb_classifier.predict(X_user)[0]\n",
        "# Print prediction\n",
        "sentiment = \"positive\" if prediction == 1 else \"negative\"\n",
        "print(f\"Predicted sentiment for '{user_input}': {sentiment}\")"
      ],
      "metadata": {
        "colab": {
          "base_uri": "https://localhost:8080/"
        },
        "id": "GfvRIlNIROm9",
        "outputId": "b184c77b-32ff-4fcb-a6eb-d3d6bec64b74"
      },
      "execution_count": null,
      "outputs": [
        {
          "output_type": "stream",
          "name": "stdout",
          "text": [
            "Enter a sentence: dont like\n",
            "Predicted sentiment for 'dont like': positive\n"
          ]
        }
      ]
    }
  ]
}