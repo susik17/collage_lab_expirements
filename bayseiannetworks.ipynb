{
  "nbformat": 4,
  "nbformat_minor": 0,
  "metadata": {
    "colab": {
      "provenance": [],
      "authorship_tag": "ABX9TyMbgolrtKzhFufgFLKSOrWL",
      "include_colab_link": true
    },
    "kernelspec": {
      "name": "python3",
      "display_name": "Python 3"
    },
    "language_info": {
      "name": "python"
    }
  },
  "cells": [
    {
      "cell_type": "markdown",
      "metadata": {
        "id": "view-in-github",
        "colab_type": "text"
      },
      "source": [
        "<a href=\"https://colab.research.google.com/github/susik17/myprojects/blob/main/bayseiannetworks.ipynb\" target=\"_parent\"><img src=\"https://colab.research.google.com/assets/colab-badge.svg\" alt=\"Open In Colab\"/></a>"
      ]
    },
    {
      "cell_type": "code",
      "execution_count": 2,
      "metadata": {
        "colab": {
          "base_uri": "https://localhost:8080/"
        },
        "id": "r5oUJrGIU4i7",
        "outputId": "f3ffcd7c-c1dd-469a-8807-67e053fc9e8d"
      },
      "outputs": [
        {
          "output_type": "stream",
          "name": "stdout",
          "text": [
            "Enter student's characteristics:\n",
            "Is the student intelligent? (yes/no): yes\n",
            "Did the student study? (yes/no): yes\n",
            "Did the student have a good sleep? (yes/no): no\n",
            "Did the student attend the class? (yes/no): yes\n",
            "Probability of passing given the provided conditions: 0.9\n",
            "Percentage of passing given the provided conditions: 90.0\n"
          ]
        }
      ],
      "source": [
        "# Define conditional probability distributions\n",
        "# Probability of Intelligence (I)\n",
        "prob_intelligent = 0.7  # P(I=true)\n",
        "# Probability of Studying (S) given Intelligence (I)\n",
        "prob_studying_given_intelligent = {True: 0.8, False: 0.2}  # P(S=true | I=true), P(S=true | I=false)\n",
        "# Probability of Good Sleep (G) given Intelligence (I)\n",
        "prob_good_sleep_given_intelligent = {True: 0.8, False: 0.2}  # P(G=true | I=true), P(G=true | I=false)\n",
        "# Probability of Attendance (A) given Intelligence (I)\n",
        "prob_attendance_given_intelligent = {True: 0.9, False: 0.6}  # P(A=true | I=true), P(A=true | I=false)\n",
        "# Probability of Passing (P) given Intelligence (I), Studying (S), Good Sleep (G), and Attendance (A)\n",
        "prob_passing_given_intelligent_studying_good_sleep_attendance = {\n",
        "    (True, True, True, True): 0.95,  # P(P=true | I=true, S=true, G=true, A=true)\n",
        "    (True, True, True, False): 0.9,   # P(P=true | I=true, S=true, G=true, A=false)\n",
        "    (True, True, False, True): 0.9,   # P(P=true | I=true, S=true, G=false, A=true)\n",
        "    (True, True, False, False): 0.85,  # P(P=true | I=true, S=true, G=false, A=false)\n",
        "    # Add more probabilities here...\n",
        "}\n",
        "\n",
        "# Function to predict the probability of passing given intelligence, studying, good sleep, and attendance\n",
        "def predict_passing(intelligent, studying, good_sleep, attendance):\n",
        "    return prob_passing_given_intelligent_studying_good_sleep_attendance.get(\n",
        "        (intelligent, studying, good_sleep, attendance), 0.0)\n",
        "\n",
        "# Get user input\n",
        "print(\"Enter student's characteristics:\")\n",
        "intelligent_input = input(\"Is the student intelligent? (yes/no): \").lower()\n",
        "studying_input = input(\"Did the student study? (yes/no): \").lower()\n",
        "good_sleep_input = input(\"Did the student have a good sleep? (yes/no): \").lower()\n",
        "attendance_input = input(\"Did the student attend the class? (yes/no): \").lower()\n",
        "\n",
        "if intelligent_input not in ['yes', 'no'] or studying_input not in ['yes', 'no'] or \\\n",
        "        good_sleep_input not in ['yes', 'no'] or attendance_input not in ['yes', 'no']:\n",
        "    print(\"Invalid input. Please enter 'yes' or 'no' for intelligence, studying, good sleep, and attendance.\")\n",
        "else:\n",
        "    intelligent = intelligent_input == 'yes'\n",
        "    studying = studying_input == 'yes'\n",
        "    good_sleep = good_sleep_input == 'yes'\n",
        "    attendance = attendance_input == 'yes'\n",
        "\n",
        "    passing_prob = predict_passing(intelligent, studying, good_sleep, attendance)\n",
        "    print(\"Probability of passing given the provided conditions:\", passing_prob)\n",
        "    percent = passing_prob * 100\n",
        "    print(\"Percentage of passing given the provided conditions:\", percent)\n"
      ]
    },
    {
      "cell_type": "code",
      "source": [],
      "metadata": {
        "id": "5QNTU20qU4_z"
      },
      "execution_count": null,
      "outputs": []
    }
  ]
}