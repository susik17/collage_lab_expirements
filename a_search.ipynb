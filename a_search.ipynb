{
  "nbformat": 4,
  "nbformat_minor": 0,
  "metadata": {
    "colab": {
      "provenance": [],
      "authorship_tag": "ABX9TyOgg4xwVcmDS0dQ6/gcNQbg"
    },
    "kernelspec": {
      "name": "python3",
      "display_name": "Python 3"
    },
    "language_info": {
      "name": "python"
    }
  },
  "cells": [
    {
      "cell_type": "code",
      "source": [
        "import heapq\n",
        "\n",
        "class Node:\n",
        "    def __init__(self, state, parent, cost, heuristic):\n",
        "        self.state = state\n",
        "        self.parent = parent\n",
        "        self.cost = cost\n",
        "        self.heuristic = heuristic\n",
        "\n",
        "    def __lt__(self, other):\n",
        "        return (self.cost + self.heuristic) < (other.cost + other.heuristic)\n",
        "\n",
        "def astar(start, goal, graph):\n",
        "    heap = []\n",
        "    heapq.heappush(heap, (0, Node(start, None, 0, 0)))\n",
        "    visited = set()\n",
        "\n",
        "    while heap:\n",
        "        (cost, current) = heapq.heappop(heap)\n",
        "\n",
        "        if current.state == goal:\n",
        "            path = []\n",
        "            while current is not None:\n",
        "                path.append(current.state)\n",
        "                current = current.parent\n",
        "            # Return reversed path\n",
        "            return path[::-1]\n",
        "\n",
        "        if current.state in visited:\n",
        "            continue\n",
        "\n",
        "        visited.add(current.state)\n",
        "\n",
        "        for state, cost in graph[current.state].items():\n",
        "            if state not in visited:\n",
        "                heuristic = {\n",
        "                    'A': 5,\n",
        "                    'B': 4,\n",
        "                    'C': 3,\n",
        "                    'D': 2,\n",
        "                    'E': 0\n",
        "                }[state]  # replace with your heuristic function\n",
        "                heapq.heappush(heap, (cost, Node(state, current, current.cost + cost, heuristic)))\n",
        "\n",
        "    return None  # No path found\n",
        "\n",
        "graph = {\n",
        "    'A': {'B': 1, 'D': 3},\n",
        "    'B': {'A': 1, 'C': 2, 'D': 4},\n",
        "    'C': {'B': 2, 'D': 5, 'E': 2},\n",
        "    'D': {'A': 3, 'B': 4, 'C': 5, 'E': 3},\n",
        "    'E': {'C': 2, 'D': 3}\n",
        "}\n",
        "start = 'A'\n",
        "goal = 'E'\n",
        "result = astar(start, goal, graph)\n",
        "print(\"The resultant path is:\",result)\n",
        "\n"
      ],
      "metadata": {
        "colab": {
          "base_uri": "https://localhost:8080/"
        },
        "id": "TucqVyL7vJc7",
        "outputId": "a36684d8-83e9-40a8-dafc-98f773d07f3b"
      },
      "execution_count": 2,
      "outputs": [
        {
          "output_type": "stream",
          "name": "stdout",
          "text": [
            "The resultant path is: ['A', 'B', 'C', 'E']\n"
          ]
        }
      ]
    },
    {
      "cell_type": "code",
      "source": [
        "import heapq\n",
        "import math\n",
        "\n",
        "class Node:\n",
        "    def __init__(self, state, parent, cost, heuristic):\n",
        "        self.state = state\n",
        "        self.parent = parent\n",
        "        self.cost = cost\n",
        "        self.heuristic = heuristic\n",
        "\n",
        "    def __lt__(self, other):\n",
        "        return (self.cost + self.heuristic) < (other.cost + other.heuristic)\n",
        "\n",
        "def astar(start, goal, graph, max_nodes):\n",
        "    heap = []\n",
        "    heapq.heappush(heap, (0, Node(start, None, 0, 0)))\n",
        "    visited = set()\n",
        "    node_counter = 0\n",
        "    while heap and node_counter < max_nodes:\n",
        "        (cost, current) = heapq.heappop(heap)\n",
        "        if current.state == goal:\n",
        "            path = []\n",
        "            while current is not None:\n",
        "                path.append(current.state)\n",
        "                current = current.parent\n",
        "            return path[::-1]\n",
        "        if current.state in visited:\n",
        "            continue\n",
        "        visited.add(current.state)\n",
        "        node_counter += 1\n",
        "        for neighbor, edge_cost in graph[current.state].items():\n",
        "            if neighbor not in visited:\n",
        "                heuristic = {\n",
        "                    'A': 5,\n",
        "                    'B': 4,\n",
        "                    'C': 3,\n",
        "                    'D': 0\n",
        "                }[neighbor]\n",
        "                heapq.heappush(heap, (current.cost + edge_cost, Node(neighbor, current, current.cost + edge_cost, heuristic)))\n",
        "    return None\n",
        "\n",
        "# Example usage\n",
        "graph = {\n",
        "    'A': {'B': 1, 'C': 4},\n",
        "    'B': {'A': 1, 'C': 2, 'D': 5},\n",
        "    'C': {'A': 4, 'B': 2, 'D': 1},\n",
        "    'D': {'B': 5, 'C': 1}\n",
        "}\n",
        "start = 'A'\n",
        "goal = 'D'\n",
        "max_nodes = 10\n",
        "\n",
        "result = astar(start, goal, graph, max_nodes)\n",
        "print(result)\n",
        "\n"
      ],
      "metadata": {
        "colab": {
          "base_uri": "https://localhost:8080/"
        },
        "id": "plnAs0AT3wEf",
        "outputId": "28597a2c-71a2-4104-d763-b828d1a4f920"
      },
      "execution_count": 4,
      "outputs": [
        {
          "output_type": "stream",
          "name": "stdout",
          "text": [
            "['A', 'B', 'C', 'D']\n"
          ]
        }
      ]
    }
  ]
}