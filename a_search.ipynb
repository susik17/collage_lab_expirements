{
  "nbformat": 4,
  "nbformat_minor": 0,
  "metadata": {
    "colab": {
      "provenance": [],
      "authorship_tag": "ABX9TyOlFNRQvZjaWx4CUbbV+GYg",
      "include_colab_link": true
    },
    "kernelspec": {
      "name": "python3",
      "display_name": "Python 3"
    },
    "language_info": {
      "name": "python"
    }
  },
  "cells": [
    {
      "cell_type": "markdown",
      "metadata": {
        "id": "view-in-github",
        "colab_type": "text"
      },
      "source": [
        "<a href=\"https://colab.research.google.com/github/susik17/myprojects/blob/main/a_search.ipynb\" target=\"_parent\"><img src=\"https://colab.research.google.com/assets/colab-badge.svg\" alt=\"Open In Colab\"/></a>"
      ]
    },
    {
      "cell_type": "code",
      "source": [
        "import heapq\n",
        "\n",
        "class Node:\n",
        "    def __init__(self, state, parent, cost, heuristic):\n",
        "        self.state = state\n",
        "        self.parent = parent\n",
        "        self.cost = cost\n",
        "        self.heuristic = heuristic\n",
        "\n",
        "    def __lt__(self, other):\n",
        "        return (self.cost + self.heuristic) < (other.cost + other.heuristic)\n",
        "\n",
        "def astar(start, goal, graph, heuristic_func):\n",
        "    heap = []\n",
        "    heapq.heappush(heap, (0, Node(start, None, 0, heuristic_func(start))))\n",
        "    visited = set()\n",
        "    while heap:\n",
        "        (cost, current) = heapq.heappop(heap)\n",
        "        if current.state == goal:\n",
        "            path = []\n",
        "            while current is not None:\n",
        "                path.append(current.state)\n",
        "                current = current.parent\n",
        "            # Return reversed path\n",
        "            return path[::-1]\n",
        "        if current.state in visited:\n",
        "            continue\n",
        "        visited.add(current.state)\n",
        "        for state, cost in graph[current.state].items():\n",
        "            if state not in visited:\n",
        "                heuristic = heuristic_func(state)\n",
        "                heapq.heappush(heap, (current.cost + cost, Node(state, current, current.cost + cost, heuristic)))\n",
        "    return None  # No path found\n",
        "\n",
        "# Define the graph\n",
        "graph = {\n",
        "    'A': {'B': 1, 'D': 3},\n",
        "    'B': {'A': 1, 'C': 2, 'D': 4},\n",
        "    'C': {'B': 2, 'D': 5, 'E': 2},\n",
        "    'D': {'A': 3, 'B': 4, 'C': 5, 'E': 3},\n",
        "    'E': {'C': 2, 'D': 3}\n",
        "}\n",
        "print(\"graph given for A* search algorithm with its adjacent nodes and c0st:\\n\",graph)\n",
        "# Define the heuristic function\n",
        "node_coordinates = {\n",
        "    'A': (0, 0),\n",
        "    'B': (1, 1),\n",
        "    'C': (2, 0),\n",
        "    'D': (1, -1),\n",
        "    'E': (3, 0)  # This is our goal node\n",
        "}\n",
        "\n",
        "def heuristic_func(node):\n",
        "    goal_node = 'E'  # Assuming 'E' is the goal node\n",
        "    if node in node_coordinates and goal_node in node_coordinates:\n",
        "        x1, y1 = node_coordinates[node]\n",
        "        x2, y2 = node_coordinates[goal_node]\n",
        "        # Euclidean distance formula\n",
        "        distance = ((x2 - x1) ** 2 + (y2 - y1) ** 2) ** 0.5\n",
        "        return distance\n",
        "    else:\n",
        "        # Return a default value if the node is not found or coordinates are not available\n",
        "        return float('inf')  # Return infinity indicating unreachable\n",
        "\n",
        "# Define start and goal nodes\n",
        "start = 'A'\n",
        "goal = 'E'\n",
        "\n",
        "# Find the path using A* algorithm\n",
        "result = astar(start, goal, graph, heuristic_func)\n",
        "\n",
        "print(\"\\n The resultant path of A* Algorithm for given graph is:\\n\",result)\n"
      ],
      "metadata": {
        "colab": {
          "base_uri": "https://localhost:8080/"
        },
        "id": "TucqVyL7vJc7",
        "outputId": "31d7a091-ef47-46d7-ecd6-fea312203c02"
      },
      "execution_count": 11,
      "outputs": [
        {
          "output_type": "stream",
          "name": "stdout",
          "text": [
            "graph given for A* search algorithm with its adjacent nodes and c0st:\n",
            " {'A': {'B': 1, 'D': 3}, 'B': {'A': 1, 'C': 2, 'D': 4}, 'C': {'B': 2, 'D': 5, 'E': 2}, 'D': {'A': 3, 'B': 4, 'C': 5, 'E': 3}, 'E': {'C': 2, 'D': 3}}\n",
            "\n",
            " The resultant path of A* Algorithm for given graph is:\n",
            " ['A', 'B', 'C', 'E']\n"
          ]
        }
      ]
    },
    {
      "cell_type": "code",
      "source": [
        "import heapq\n",
        "import math\n",
        "\n",
        "class Node:\n",
        "    def __init__(self, state, parent, cost, heuristic):\n",
        "        self.state = state\n",
        "        self.parent = parent\n",
        "        self.cost = cost\n",
        "        self.heuristic = heuristic\n",
        "\n",
        "    def __lt__(self, other):\n",
        "        return (self.cost + self.heuristic) < (other.cost + other.heuristic)\n",
        "\n",
        "def euclidean_distance(node1, node2):\n",
        "    x1, y1 = node_coordinates[node1]\n",
        "    x2, y2 = node_coordinates[node2]\n",
        "    return math.sqrt((x2 - x1) ** 2 + (y2 - y1) ** 2)\n",
        "\n",
        "def astar(start, goal, graph, max_nodes):\n",
        "    heap = []\n",
        "    heapq.heappush(heap, (0, Node(start, None, 0, euclidean_distance(start, goal))))\n",
        "    visited = set()\n",
        "    node_counter = 0\n",
        "    while heap and node_counter < max_nodes:\n",
        "        (cost, current) = heapq.heappop(heap)\n",
        "        if current.state == goal:\n",
        "            path = []\n",
        "            while current is not None:\n",
        "                path.append(current.state)\n",
        "                current = current.parent\n",
        "            return path[::-1]\n",
        "        if current.state in visited:\n",
        "            continue\n",
        "        visited.add(current.state)\n",
        "        node_counter += 1\n",
        "        for neighbor, edge_cost in graph[current.state].items():\n",
        "            if neighbor not in visited:\n",
        "                heuristic = euclidean_distance(neighbor, goal)\n",
        "                heapq.heappush(heap, (current.cost + edge_cost, Node(neighbor, current, current.cost + edge_cost, heuristic)))\n",
        "    return None\n",
        "\n",
        "# Example usage\n",
        "graph = {\n",
        "    'A': {'B': 1, 'C': 4},\n",
        "    'B': {'A': 1, 'C': 2, 'D': 5},\n",
        "    'C': {'A': 4, 'B': 2, 'D': 1},\n",
        "    'D': {'B': 5, 'C': 1}\n",
        "}\n",
        "start = 'A'\n",
        "goal = 'D'\n",
        "max_nodes = 10\n",
        "\n",
        "# Define node coordinates\n",
        "node_coordinates = {\n",
        "    'A': (0, 0),\n",
        "    'B': (1, 1),\n",
        "    'C': (2, 0),\n",
        "    'D': (1, -1)\n",
        "}\n",
        "\n",
        "result = astar(start, goal, graph, max_nodes)\n",
        "print(result)\n"
      ],
      "metadata": {
        "colab": {
          "base_uri": "https://localhost:8080/"
        },
        "id": "plnAs0AT3wEf",
        "outputId": "b60ef737-4cd9-4ee2-9939-6d9aae37ed87"
      },
      "execution_count": 14,
      "outputs": [
        {
          "output_type": "stream",
          "name": "stdout",
          "text": [
            "['A', 'B', 'C', 'D']\n"
          ]
        }
      ]
    }
  ]
}